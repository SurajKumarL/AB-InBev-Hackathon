{
 "cells": [
  {
   "cell_type": "markdown",
   "metadata": {},
   "source": [
    "### importing the required libraries"
   ]
  },
  {
   "cell_type": "code",
   "execution_count": 22,
   "metadata": {},
   "outputs": [],
   "source": [
    "import pandas as pd\n",
    "import numpy as np\n",
    "import matplotlib.pyplot as plt\n",
    "import seaborn as sns\n",
    "from sklearn import preprocessing"
   ]
  },
  {
   "cell_type": "markdown",
   "metadata": {},
   "source": [
    "### importing the data"
   ]
  },
  {
   "cell_type": "code",
   "execution_count": 23,
   "metadata": {},
   "outputs": [],
   "source": [
    "df = pd.read_csv(\"Data.csv\")"
   ]
  },
  {
   "cell_type": "markdown",
   "metadata": {},
   "source": [
    "### data cleaning"
   ]
  },
  {
   "cell_type": "code",
   "execution_count": 24,
   "metadata": {
    "scrolled": true
   },
   "outputs": [],
   "source": [
    "#renaming the columns in the dataset for convenience\n",
    "new_columns = {\n",
    "    'Ship-to ID':'ID',\n",
    "    'Volume_2019':'total_volume_2019',\n",
    "    'Volume_2018':'total_volume_2018',\n",
    "    'sfdc_tier':'city_tier',\n",
    "    'Product Set':'product_set',\n",
    "    'Brand':'brand',\n",
    "    'Sub-Brand':'sub_brand',\n",
    "    'Pack_Type':'pack_type',\n",
    "    'Returnalility':'returnability',\n",
    "    'GTO_2019':'gross_turnover_2019',\n",
    "    'OnInvoice Discount(LCU)':'on_invoice_discount',\n",
    "    'OffInvoice Discount(LCU)':'off_invoice_discount',\n",
    "    'Volume_2019 Product':'product_volume_2019',\n",
    "    'Tax':'tax',\n",
    "    'Discount_Total':'total_discount'\n",
    "}\n",
    "df.rename(columns = new_columns, inplace = True)\n",
    "\n",
    "#replacing all '0' (string) values in the poc_image column to 'Mainstream' (mode of the series)\n",
    "df['poc_image'] = df['poc_image'].replace(to_replace = '0', value = 'Mainstream')\n",
    "#replacing all null values in the segment column to 'Drink Led' (mode of the series)\n",
    "df['segment'] = df['segment'].replace(to_replace = ' ', value = 'Drink Led')\n",
    "\n",
    "for i in range(len(df)):\n",
    "    #these rows have all numerical values as 0\n",
    "    #dropping all rows where total_volume_2019 = 0\n",
    "    if(df['total_volume_2019'][i]==0):\n",
    "        df=df.drop(i)\n",
    "    #dropping all rows where the following combination = 0 but other values are non-null\n",
    "    elif((df['total_discount'][i]==0) & (df['gross_turnover_2019'][i]==0) & (df['on_invoice_discount'][i]==0) & (df['off_invoice_discount'][i]==0) & (df['product_volume_2019'][i]==0) & (df['tax'][i]==0)):\n",
    "        df=df.drop(i)\n",
    "    #dropping all rows where both of these = 0 but other values are non-null\n",
    "    elif((df['product_volume_2019'][i]==0)&(df['gross_turnover_2019'][i]==0)):\n",
    "        df=df.drop(i)\n",
    "\n",
    "df.reset_index(inplace = True) #resetting index\n",
    "\n",
    "#creating a new column - gross turnover per product volume sold in 2019\n",
    "#the correlation between the two is 1\n",
    "df['gto/pvol_2019'] = df['gross_turnover_2019']/df['product_volume_2019']\n",
    "#some product volume values are 0 and makes the final value infinity, so change it to 0\n",
    "df['gto/pvol_2019'] = df['gto/pvol_2019'].replace([np.inf, -np.inf], 0)\n",
    "#creating a new column - total volume sold in 2019 per total volume sold in 2019\n",
    "#the correlation between the two is 0.96\n",
    "df['tvol18/tvol19'] = df['total_volume_2018']/df['total_volume_2019']\n",
    "#outliers\n",
    "df=df.drop(3133)\n",
    "df=df.drop(38106)\n",
    "df.reset_index(inplace = True) #resetting index\n",
    "df.drop(df.columns[[0, 1]], axis = 1, inplace = True) #resetting index creates new useless indices\n",
    "\n",
    "#filling empty missing values\n",
    "for i in range(len(df)):\n",
    "    if(df['gross_turnover_2019'][i]==0):\n",
    "        df.at[i, 'gross_turnover_2019']=df['product_volume_2019'][i]*df['gto/pvol_2019'].mean()\n",
    "    elif(df['total_volume_2018'][i]==0):\n",
    "        df.at[i, 'total_volume_2018']=df['total_volume_2019'][i]*df['tvol18/tvol19'].mean()\n",
    "        \n",
    "#creating a new column - product volume sold for every rupee spent by POC in 2019\n",
    "df['pvol_2019/gto'] = df['product_volume_2019']/df['gross_turnover_2019']\n",
    "df=df.drop(25695) #outliers\n",
    "df.reset_index(inplace = True) #resetting index\n",
    "df.drop(df.columns[0], axis = 1, inplace = True)\n",
    "\n",
    "#filling empty missing values\n",
    "for i in range(len(df)):        \n",
    "    if(df['product_volume_2019'][i]==0):\n",
    "        df.at[i, 'product_volume_2019']=df['gross_turnover_2019'][i]*df['pvol_2019/gto'].mean()\n",
    "\n",
    "#dropping the newly created columns\n",
    "#df.drop(['gto/pvol_2019','tvol18/tvol19','pvol_2019/gto'], axis = 1, inplace = True)\n",
    "\n",
    "#creating new columns - tax per gross turnover in 2019\n",
    "df['tax/gto']=(df['tax']/df['gross_turnover_2019'])*100\n",
    "#total discount given per gross turnover in 2019\n",
    "df['tdisc/gto']=(df['total_discount']/df['gross_turnover_2019'])*100\n",
    "df['gto-tax']=(df['gross_turnover_2019']-df['tax'])\n",
    "df['tdisc/gtx']=(df['total_discount']/df['gto-tax'])*100\n",
    "\n",
    "\n",
    "#dropping outliers\n",
    "df=df.drop(25640)\n",
    "df=df.drop(34940)\n",
    "df=df.drop(39053)\n",
    "df=df.drop(34112)\n",
    "df=df.drop(11722)\n",
    "df=df.drop(18253)\n",
    "df=df.drop(39247)\n",
    "df=df.drop(11028)\n",
    "df=df.drop(32951)\n",
    "df.reset_index(inplace = True) #resetting index\n",
    "df.drop(df.columns[0], axis = 1, inplace = True)\n",
    "\n",
    "#dropping outliers (data that doesnt make sense logically)\n",
    "df.drop(df[(df['tax/gto']>70)|(df['tax/gto']<0)].index, inplace=True)\n",
    "df.drop(df[df['gross_turnover_2019']>9*(10**5)].index, inplace=True)\n",
    "df.drop(df[df['pvol_2019/gto']<0].index, inplace=True)\n",
    "df.drop(df[df['gto/pvol_2019']>20000].index, inplace=True)\n",
    "df.drop(df[(df['tdisc/gto']<0)|(df['tdisc/gto']>=75)].index, inplace=True)\n",
    "df.drop(df[df['ID']==29054511].index, inplace=True)\n",
    "df.drop(df[(df['tax']<0)|(df['gross_turnover_2019']<0)|(df['product_volume_2019']<0)|(df['on_invoice_discount']<0)|(df['off_invoice_discount']<0)|(df['total_discount']<0)|(df['total_volume_2019']<0)|(df['total_volume_2018']<0)].index, inplace=True)\n",
    "df.drop(df[(df['tax']>40000)|(df['gross_turnover_2019']>400000)|(df['product_volume_2019']>1750)].index, inplace=True)\n",
    "df.drop(['gto/pvol_2019','tvol18/tvol19','pvol_2019/gto','pvol_2019/gto'], axis = 1, inplace = True)"
   ]
  },
  {
   "cell_type": "markdown",
   "metadata": {},
   "source": [
    "### finding correlation among the columns in the data"
   ]
  },
  {
   "cell_type": "code",
   "execution_count": 25,
   "metadata": {},
   "outputs": [
    {
     "data": {
      "image/png": "[encoded data removed]",
      "text/plain": [
       "<Figure size 576x576 with 2 Axes>"
      ]
     },
     "metadata": {},
     "output_type": "display_data"
    }
   ],
   "source": [
    "plt.figure(figsize=(8, 8))\n",
    "sns.set(rc={'axes.facecolor':'lightyellow', 'figure.facecolor':'lightyellow'})\n",
    "mapColumnsDataframe = df[['gross_turnover_2019','tax','product_volume_2019','total_volume_2019','total_volume_2018','total_discount', 'off_invoice_discount', 'on_invoice_discount','gto-tax']].copy()\n",
    "mapColumnsDataframe.rename(columns = {\n",
    "    'gross_turnover_2019':'gto',\n",
    "    'product_volume_2019':'p_vol',\n",
    "    'total_volume_2019':'t_vol19',\n",
    "    'total_volume_2018':'t_vol18',\n",
    "    'total_discount':'t_disc',\n",
    "    'off_invoice_discount':'off_d',\n",
    "    'on_invoice_discount':'on_d',\n",
    "    'gto-tax':'g-t'\n",
    "}, inplace = True)\n",
    "corr = mapColumnsDataframe.corr()\n",
    "matrix = np.triu(corr)\n",
    "sns.heatmap(corr, vmin=-1, vmax=1, annot=True, cmap='coolwarm', mask=matrix);"
   ]
  },
  {
   "cell_type": "markdown",
   "metadata": {},
   "source": [
    "## data preprocessing"
   ]
  },
  {
   "cell_type": "code",
   "execution_count": 26,
   "metadata": {},
   "outputs": [],
   "source": [
    "#dropping inessential features\n",
    "df.drop(['tdisc/gtx','tax/gto','tdisc/gto','product_set'], axis = 1, inplace = True)\n",
    "\n",
    "#label encoding city tier\n",
    "df[\"city_tier\"].replace({\"Tier 0\": 1, \"Tier 1\": 2, \"Tier 2\": 4}, inplace=True) #values are ratio of frequency\n",
    "\n",
    "#dummy encoding features with low count\n",
    "poc_image = pd.get_dummies(df[\"poc_image\"], drop_first = True)\n",
    "segment = pd.get_dummies(df[\"segment\"], drop_first = True)\n",
    "pack_type = pd.get_dummies(df[\"pack_type\"], drop_first = True)\n",
    "returnability = pd.get_dummies(df[\"returnability\"], drop_first = True)\n",
    "\n",
    "#dropping the actual columns and replacing with the above encoded columns\n",
    "df.drop([\"poc_image\",\"segment\",\"pack_type\",\"returnability\"], axis = 1, inplace = True)\n",
    "df = pd.concat([df, poc_image, segment, pack_type, returnability], axis = 1)\n",
    "\n",
    "#one hot encoding the most frequent values\n",
    "\n",
    "#subsegment top 6\n",
    "subsegment_c = [x for x in df[\"sub_segment\"].value_counts().sort_values(ascending=False).head(6).index]\n",
    "#brand top 6\n",
    "brand_c = [x for x in df[\"brand\"].value_counts().sort_values(ascending=False).head(6).index]\n",
    "#sub_brand top 8\n",
    "subbrand_c = [x for x in df[\"sub_brand\"].value_counts().sort_values(ascending=False).head(8).index]\n",
    "#province top 10 (total are 11, (similar to drop first, all are included))\n",
    "province_c = [x for x in df[\"province\"].value_counts().sort_values(ascending=False).head(10).index]\n",
    "\n",
    "#function to create one hot encoding columns\n",
    "def one_hot_top_x(df, variable, top_x_labels):\n",
    "    for label in top_x_labels:\n",
    "        df[variable+ \"_\"+ label] = np.where(df[variable]==label,1,0)\n",
    "        \n",
    "one_hot_top_x(df,\"sub_segment\",subsegment_c)\n",
    "one_hot_top_x(df,\"brand\",brand_c)\n",
    "one_hot_top_x(df,\"sub_brand\",subbrand_c)\n",
    "one_hot_top_x(df,\"province\",province_c)\n",
    "\n",
    "#dropping inessential columns again\n",
    "df.drop([\"sub_segment\",\"brand\",\"sub_brand\",\"province\"], axis = 1, inplace = True)\n",
    "df.drop(\"ID\",axis=1,inplace=True)\n",
    "\n",
    "#exporting final dataset\n",
    "df.to_csv(\"Data_Encoded.csv\", index= False)"
   ]
  },
  {
   "cell_type": "markdown",
   "metadata": {},
   "source": [
    "## creating a profile report html file"
   ]
  },
  {
   "cell_type": "code",
   "execution_count": 31,
   "metadata": {},
   "outputs": [],
   "source": [
    "#from pandas_profiling import ProfileReport\n",
    "#prof = ProfileReport(df)\n",
    "#prof.to_file('profile_report.html')"
   ]
  }
 ],
 "metadata": {
  "kernelspec": {
   "display_name": "Python 3",
   "language": "python",
   "name": "python3"
  },
  "language_info": {
   "codemirror_mode": {
    "name": "ipython",
    "version": 3
   },
   "file_extension": ".py",
   "mimetype": "text/x-python",
   "name": "python",
   "nbconvert_exporter": "python",
   "pygments_lexer": "ipython3",
   "version": "3.8.5"
  }
 },
 "nbformat": 4,
 "nbformat_minor": 2
}
